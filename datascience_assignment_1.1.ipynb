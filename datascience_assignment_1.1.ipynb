{
 "cells": [
  {
   "cell_type": "code",
   "execution_count": 12,
   "metadata": {},
   "outputs": [
    {
     "name": "stdout",
     "output_type": "stream",
     "text": [
      "Enter first integer: 5\n",
      "Enter second integer: 7\n",
      "Sum of two integers: 12\n"
     ]
    }
   ],
   "source": [
    "# Program to calculate sum of two integers\n",
    "a = input(\"Enter first integer: \")\n",
    "b = input(\"Enter second integer: \")\n",
    "try:\n",
    "    c = int(a.strip()) + int(b.strip())\n",
    "except:\n",
    "    print(\"Invalid inputs entered\")\n",
    "else:\n",
    "    print(\"Sum of two integers: \" + str(c))"
   ]
  },
  {
   "cell_type": "code",
   "execution_count": null,
   "metadata": {},
   "outputs": [],
   "source": []
  }
 ],
 "metadata": {
  "kernelspec": {
   "display_name": "Python 3",
   "language": "python",
   "name": "python3"
  },
  "language_info": {
   "codemirror_mode": {
    "name": "ipython",
    "version": 3
   },
   "file_extension": ".py",
   "mimetype": "text/x-python",
   "name": "python",
   "nbconvert_exporter": "python",
   "pygments_lexer": "ipython3",
   "version": "3.6.4"
  }
 },
 "nbformat": 4,
 "nbformat_minor": 2
}
